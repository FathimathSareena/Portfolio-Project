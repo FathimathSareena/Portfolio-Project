{
 "cells": [
  {
   "cell_type": "code",
   "execution_count": 1,
   "id": "063a3cf9-d747-4add-91a0-314f7482df73",
   "metadata": {},
   "outputs": [],
   "source": [
    "import pandas as pd \n",
    "import numpy as np   "
   ]
  },
  {
   "cell_type": "code",
   "execution_count": 2,
   "id": "c82ecbe5-90b7-414e-ae88-ffce2518ca84",
   "metadata": {},
   "outputs": [],
   "source": [
    "file_path = r\"C:\\Users\\Fathimath Sareena\\Downloads\\clean_data_after_eda.csv\" \n",
    "df = pd.read_csv(file_path)"
   ]
  },
  {
   "cell_type": "code",
   "execution_count": 3,
   "id": "3c561b16-63b8-45c9-aac3-bae3897a500c",
   "metadata": {},
   "outputs": [],
   "source": [
    "df_cleaned = df.drop(columns=['id'])"
   ]
  },
  {
   "cell_type": "code",
   "execution_count": 4,
   "id": "040f7a44-c91f-44d8-ad51-e0f65d0823d9",
   "metadata": {},
   "outputs": [],
   "source": [
    "df_cleaned['activation_year'] = pd.to_datetime(df_cleaned['date_activ']).dt.year\n",
    "df_cleaned['renewal_year'] = pd.to_datetime(df_cleaned['date_renewal']).dt.year\n",
    "df_cleaned['contract_duration_days'] = (pd.to_datetime(df_cleaned['date_end']) - pd.to_datetime(df_cleaned['date_activ'])).dt.days"
   ]
  },
  {
   "cell_type": "code",
   "execution_count": 6,
   "id": "a4a3ef0e-aa15-43a8-8a51-2054dcadf5a0",
   "metadata": {},
   "outputs": [],
   "source": [
    "df_cleaned['total_energy_forecast'] = df_cleaned['forecast_cons_12m'] * df_cleaned['forecast_price_energy_peak']\n",
    "df_cleaned['consumption_ratio'] = df_cleaned['cons_12m'] / (df_cleaned['cons_gas_12m'] + 1)"
   ]
  },
  {
   "cell_type": "code",
   "execution_count": 7,
   "id": "06108b2d-a8a7-4d04-9a16-989bcc9c2fc0",
   "metadata": {},
   "outputs": [],
   "source": [
    "df_cleaned = pd.get_dummies(df_cleaned, columns=['channel_sales', 'origin_up', 'has_gas'], drop_first=True)"
   ]
  },
  {
   "cell_type": "code",
   "execution_count": 18,
   "id": "e690fed3-68e7-4d2f-baea-98c80cdbee6c",
   "metadata": {},
   "outputs": [],
   "source": [
    "output_path = \"C:/Users/Fathimath Sareena/Downloads/feature_engineering.csv\"\n",
    "df_cleaned.to_csv(output_path, index=False)"
   ]
  },
  {
   "cell_type": "code",
   "execution_count": 19,
   "id": "eec327dd-911a-471f-927f-732d011d1b9f",
   "metadata": {},
   "outputs": [
    {
     "name": "stdout",
     "output_type": "stream",
     "text": [
      "Modified dataset saved to: C:/Users/Fathimath Sareena/Downloads/feature_engineering.csv\n"
     ]
    }
   ],
   "source": [
    "print(f\"Modified dataset saved to: {output_path}\")"
   ]
  },
  {
   "cell_type": "code",
   "execution_count": null,
   "id": "398b841f-bd4e-46fe-b813-fb84d14ce5c9",
   "metadata": {},
   "outputs": [],
   "source": []
  }
 ],
 "metadata": {
  "kernelspec": {
   "display_name": "Python 3 (ipykernel)",
   "language": "python",
   "name": "python3"
  },
  "language_info": {
   "codemirror_mode": {
    "name": "ipython",
    "version": 3
   },
   "file_extension": ".py",
   "mimetype": "text/x-python",
   "name": "python",
   "nbconvert_exporter": "python",
   "pygments_lexer": "ipython3",
   "version": "3.12.4"
  }
 },
 "nbformat": 4,
 "nbformat_minor": 5
}
