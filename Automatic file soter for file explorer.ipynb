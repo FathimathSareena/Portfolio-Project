{
 "cells": [
  {
   "cell_type": "markdown",
   "id": "9fdf10da-02de-471e-a603-50f82e2e885a",
   "metadata": {},
   "source": [
    "# Automatic File Soter in File Explore"
   ]
  },
  {
   "cell_type": "code",
   "execution_count": 1,
   "id": "9abbd87e-98fc-47a1-a973-6904bc71ab3b",
   "metadata": {},
   "outputs": [],
   "source": [
    "import os, shutil"
   ]
  },
  {
   "cell_type": "code",
   "execution_count": 4,
   "id": "84a1ff29-ccea-4871-b0f6-6d62f2b5aaa5",
   "metadata": {},
   "outputs": [],
   "source": [
    "path = r\"#\"  #with '/' include your file path then run next"
   ]
  },
  {
   "cell_type": "code",
   "execution_count": 7,
   "id": "eddf6142-aba4-4252-9fac-7b1ba196b850",
   "metadata": {},
   "outputs": [],
   "source": [
    "os.listdir(path) "
   ]
  },
  {
   "cell_type": "code",
   "execution_count": 19,
   "id": "64958467-d987-4c09-adac-39bcdca93fc9",
   "metadata": {},
   "outputs": [],
   "source": [
    "file_name = os.listdir(path)"
   ]
  },
  {
   "cell_type": "code",
   "execution_count": 14,
   "id": "4dc621ea-3689-445c-8394-d32f79a1d155",
   "metadata": {},
   "outputs": [],
   "source": [
    "folder_name = ['csv files', 'image files', 'text files'] #which and all files you have create\n",
    "for loop in range(0,2):\n",
    "    if not os.path.exists(path + folder_name[loop]):\n",
    "        print(path + folder_name[loop])\n",
    "        os.makedirs(path + folder_name[loop]) \n",
    "for file in file_name:\n",
    "    if \".csv\" in file and not os.path.exists(path + \"/csv files\" + file):\n",
    "        shutil.move(path + file, path + \"/csv files\" + file)\n",
    "    elif \".png\" in file and not os.path.exists(path + \"/image files\" + file):\n",
    "        shutil.move(path + file, path + \"/image files\" + file)\n",
    "    elif \".txt\" in file and not os.path.exists(path + \"/text files\" + file):\n",
    "        shutil.move(path + file, path + \"/text files\" + file)"
   ]
  },
  {
   "cell_type": "code",
   "execution_count": 20,
   "id": "06307f40-d805-4153-8a4a-b6053a193365",
   "metadata": {},
   "outputs": [],
   "source": []
  },
  {
   "cell_type": "code",
   "execution_count": null,
   "id": "da6744e5-f575-4d6a-90c9-55724a929d6d",
   "metadata": {},
   "outputs": [],
   "source": []
  }
 ],
 "metadata": {
  "kernelspec": {
   "display_name": "Python 3 (ipykernel)",
   "language": "python",
   "name": "python3"
  },
  "language_info": {
   "codemirror_mode": {
    "name": "ipython",
    "version": 3
   },
   "file_extension": ".py",
   "mimetype": "text/x-python",
   "name": "python",
   "nbconvert_exporter": "python",
   "pygments_lexer": "ipython3",
   "version": "3.12.4"
  }
 },
 "nbformat": 4,
 "nbformat_minor": 5
}
