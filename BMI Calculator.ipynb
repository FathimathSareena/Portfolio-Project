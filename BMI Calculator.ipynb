{
 "cells": [
  {
   "cell_type": "markdown",
   "id": "1496232b-0945-480d-a1ed-03aa35c71a20",
   "metadata": {},
   "source": [
    "# BMI CALCULATER (Body Mass Index)"
   ]
  },
  {
   "cell_type": "code",
   "execution_count": 18,
   "id": "ec734f4d-a424-436a-93a8-4195a8890d34",
   "metadata": {},
   "outputs": [
    {
     "name": "stdin",
     "output_type": "stream",
     "text": [
      "Enter your name Sareena\n",
      "Enter your weight in KG:  50\n",
      "Enter your height in CM:  153\n"
     ]
    },
    {
     "name": "stdout",
     "output_type": "stream",
     "text": [
      "21.35930624973301\n",
      "Sareena,You are Normal weight.\n"
     ]
    }
   ],
   "source": [
    "name = input(\"Enter your name\")\n",
    "weight = int(input(\"Enter your weight in KG: \"))\n",
    "height = int(input(\"Enter your height in CM: \"))\n",
    "BMI = (weight) / (height * height) * 10000\n",
    "print(BMI)\n",
    "if BMI>0:\n",
    "    if (BMI<18.5):\n",
    "        print(name +\",You are Underweight.\")\n",
    "    elif (BMI<=24.9):\n",
    "        print(name +\",You are Normal weight.\")\n",
    "    elif (BMI<=29.9):\n",
    "        print(name +\",You are Overweight.\")\n",
    "    elif (BMI<=34.9):\n",
    "        print(name +\",You are Obese.\")\n",
    "    elif (BMI<=39.9):\n",
    "        print(name +\",You are Severly obese.\")\n",
    "    else:\n",
    "        print(name +\",You are Morbidly Obese.\")\n",
    "else:\n",
    "    print(\"Enter valid input\")"
   ]
  },
  {
   "cell_type": "code",
   "execution_count": 2,
   "id": "83647454-5c5e-4278-bd38-dea83228645f",
   "metadata": {},
   "outputs": [
    {
     "name": "stdout",
     "output_type": "stream",
     "text": [
      "50\n"
     ]
    }
   ],
   "source": [
    "print(weight)"
   ]
  },
  {
   "cell_type": "code",
   "execution_count": 7,
   "id": "22223c1e-ba45-47d7-81cb-46bab2a5e906",
   "metadata": {},
   "outputs": [],
   "source": [
    "Under 18.5\tUnderweight\tMinimal\n",
    "18.5 - 24.9\tNormal Weight\tMinimal\n",
    "25 - 29.9\tOverweight\tIncreased\n",
    "30 - 34.9\tObese\tHigh\n",
    "35 - 39.9\tSeverely Obese\tVery High\n",
    "40 and over\tMorbidly Obese\tExtremely High"
   ]
  },
  {
   "cell_type": "code",
   "execution_count": 17,
   "id": "1d00e2f9-d08c-456a-a461-7fdf5dfc3e87",
   "metadata": {},
   "outputs": [
    {
     "name": "stdout",
     "output_type": "stream",
     "text": [
      "Sareena,You are Normal weight.\n"
     ]
    }
   ],
   "source": [
    "if BMI>0:\n",
    "    if (BMI<18.5):\n",
    "        print(name +\",You are Underweight.\")\n",
    "    elif (BMI<=24.9):\n",
    "        print(name +\",You are Normal weight.\")\n",
    "    elif (BMI<=29.9):\n",
    "        print(name +\",You are Overweight.\")\n",
    "    elif (BMI<=34.9):\n",
    "        print(name +\",You are Obese.\")\n",
    "    elif (BMI<=39.9):\n",
    "        print(name +\",You are Severly obese.\")\n",
    "    else:\n",
    "        print(name +\",You are Morbidly Obese.\")\n",
    "else:\n",
    "    print(\"Enter valid input\")"
   ]
  },
  {
   "cell_type": "code",
   "execution_count": null,
   "id": "db753349-3442-4d6e-ac1a-f5f32ae4c5b1",
   "metadata": {},
   "outputs": [],
   "source": []
  },
  {
   "cell_type": "code",
   "execution_count": null,
   "id": "049e4670-56dc-4cfb-a5ad-79128bf4f8e9",
   "metadata": {},
   "outputs": [],
   "source": []
  },
  {
   "cell_type": "code",
   "execution_count": null,
   "id": "d3a7a8e1-2354-4512-9675-7950a0b888f3",
   "metadata": {},
   "outputs": [],
   "source": []
  },
  {
   "cell_type": "code",
   "execution_count": null,
   "id": "0dc25077-e528-40a8-96ee-a0cc18ee7184",
   "metadata": {},
   "outputs": [],
   "source": []
  },
  {
   "cell_type": "code",
   "execution_count": null,
   "id": "aa027ef7-f7db-4d6c-8b8d-2f1af706de57",
   "metadata": {},
   "outputs": [],
   "source": []
  },
  {
   "cell_type": "code",
   "execution_count": null,
   "id": "6a58b851-8fc9-48a4-aff8-37d16dd43c5c",
   "metadata": {},
   "outputs": [],
   "source": []
  },
  {
   "cell_type": "code",
   "execution_count": null,
   "id": "baaf66cb-52b8-4cb8-8d76-5c5cfbacaaea",
   "metadata": {},
   "outputs": [],
   "source": []
  },
  {
   "cell_type": "code",
   "execution_count": null,
   "id": "a0ddb9b8-a138-4574-a41f-7415fae1e442",
   "metadata": {},
   "outputs": [],
   "source": []
  }
 ],
 "metadata": {
  "kernelspec": {
   "display_name": "Python 3 (ipykernel)",
   "language": "python",
   "name": "python3"
  },
  "language_info": {
   "codemirror_mode": {
    "name": "ipython",
    "version": 3
   },
   "file_extension": ".py",
   "mimetype": "text/x-python",
   "name": "python",
   "nbconvert_exporter": "python",
   "pygments_lexer": "ipython3",
   "version": "3.12.4"
  }
 },
 "nbformat": 4,
 "nbformat_minor": 5
}
